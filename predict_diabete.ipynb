{
  "nbformat": 4,
  "nbformat_minor": 0,
  "metadata": {
    "colab": {
      "name": "predict_diabete.ipynb",
      "provenance": []
    },
    "kernelspec": {
      "name": "python3",
      "display_name": "Python 3"
    },
    "language_info": {
      "name": "python"
    }
  },
  "cells": [
    {
      "cell_type": "code",
      "execution_count": 2,
      "metadata": {
        "id": "GwDAmU54QeSK"
      },
      "outputs": [],
      "source": [
        "from random import seed\n",
        "from random import randrange\n",
        "from csv import reader\n",
        "from math import exp"
      ]
    },
    {
      "cell_type": "code",
      "source": [
        "#load data into csv_reader\n",
        "def load_data_from_csv_file(file):\n",
        "  dataset=list()\n",
        "  with open(file,'r') as file:\n",
        "    csv_reader=reader(file)\n",
        "    for row in csv_reader :\n",
        "      if not row:\n",
        "        continue\n",
        "      dataset.append(row)\n",
        "  return dataset\n",
        "\n",
        "dataset=load_data_from_csv_file(\"diabetes.csv\")\n",
        "dataset=dataset[1:] #remove the feature name\n",
        "dataset[0]"
      ],
      "metadata": {
        "colab": {
          "base_uri": "https://localhost:8080/"
        },
        "id": "22hIlpd2Rm9i",
        "outputId": "6efc32e5-4ceb-43cd-8300-b5e42a1b495b"
      },
      "execution_count": 22,
      "outputs": [
        {
          "output_type": "execute_result",
          "data": {
            "text/plain": [
              "['6', '148', '72', '35', '0', '33.6', '0.627', '50', '1']"
            ]
          },
          "metadata": {},
          "execution_count": 22
        }
      ]
    },
    {
      "cell_type": "code",
      "source": [
        "#convert string into float for the dataset\n",
        "def change_data_type(dataset,column):\n",
        "    for row in dataset:\n",
        "        row[column]=float(row[column].strip())\n",
        "\n",
        "\n",
        "for i in range(len(dataset[0])):\n",
        "  change_data_type(dataset,i)\n",
        "\n",
        "#dataset[0]"
      ],
      "metadata": {
        "colab": {
          "base_uri": "https://localhost:8080/"
        },
        "id": "6gWH1rqNTYX7",
        "outputId": "365497c6-93e2-4481-f991-1679ccb7823c"
      },
      "execution_count": 23,
      "outputs": [
        {
          "output_type": "execute_result",
          "data": {
            "text/plain": [
              "[6.0, 148.0, 72.0, 35.0, 0.0, 33.6, 0.627, 50.0, 1.0]"
            ]
          },
          "metadata": {},
          "execution_count": 23
        }
      ]
    },
    {
      "cell_type": "code",
      "source": [
        "# return the max and min for each feature\n",
        "def find_minmax(dataset):\n",
        "  minmax_list=list()\n",
        "  for i in range(len(dataset[0])):\n",
        "      values_in_each_column=[row[i] for row in dataset]\n",
        "      min_value=min(values_in_each_column)\n",
        "      max_value=max(values_in_each_column)\n",
        "      minmax_list.append([min_value,max_value])\n",
        "  return minmax_list\n",
        "\n",
        "minmax_list=find_minmax(dataset)\n",
        "#minmax_list"
      ],
      "metadata": {
        "colab": {
          "base_uri": "https://localhost:8080/"
        },
        "id": "Phe7N-_yV9Yq",
        "outputId": "b3dfb84c-c60b-4390-9d73-6fa103a8685c"
      },
      "execution_count": 27,
      "outputs": [
        {
          "output_type": "execute_result",
          "data": {
            "text/plain": [
              "[[0.0, 17.0],\n",
              " [0.0, 199.0],\n",
              " [0.0, 122.0],\n",
              " [0.0, 99.0],\n",
              " [0.0, 846.0],\n",
              " [0.0, 67.1],\n",
              " [0.078, 2.42],\n",
              " [21.0, 81.0],\n",
              " [0.0, 1.0]]"
            ]
          },
          "metadata": {},
          "execution_count": 27
        }
      ]
    },
    {
      "cell_type": "code",
      "source": [
        "#rescale data into range 0-1\n",
        "def rescale_data(dataset,minmax_list):\n",
        "    for row in dataset:\n",
        "        for i in range(len(dataset[0])):\n",
        "            row[i]=(row[i]-minmax_list[i][0])/(minmax_list[i][1]-minmax_list[i][0])\n",
        "\n",
        "rescale_data(dataset,minmax_list)\n",
        "#dataset[0]\n"
      ],
      "metadata": {
        "colab": {
          "base_uri": "https://localhost:8080/"
        },
        "id": "dNaO046lV85P",
        "outputId": "d6b07ea2-c05c-46dd-ac28-9f911fdce358"
      },
      "execution_count": 28,
      "outputs": [
        {
          "output_type": "execute_result",
          "data": {
            "text/plain": [
              "[0.35294117647058826,\n",
              " 0.7437185929648241,\n",
              " 0.5901639344262295,\n",
              " 0.35353535353535354,\n",
              " 0.0,\n",
              " 0.5007451564828614,\n",
              " 0.23441502988898377,\n",
              " 0.48333333333333334,\n",
              " 1.0]"
            ]
          },
          "metadata": {},
          "execution_count": 28
        }
      ]
    },
    {
      "cell_type": "code",
      "source": [
        "# n fold training dataset and testing dataset\n",
        "def cross_validation(dataset,n_fold):\n",
        "    splited_dataset=list() \n",
        "\n",
        "    copy_dataset=list(dataset)\n",
        "    every_fold_length=int(len(dataset))/n_fold\n",
        "\n",
        "    for i in range(n_fold):\n",
        "        current_fold_dataset=list()\n",
        "        while len(current_fold_dataset)<every_fold_length:\n",
        "              if len(copy_dataset)==0:\n",
        "                  break\n",
        "              index=randrange(len(copy_dataset))\n",
        "              data_sample=copy_dataset.pop(index)\n",
        "              current_fold_dataset.append(data_sample)\n",
        "        splited_dataset.append(current_fold_dataset)\n",
        "\n",
        "    return splited_dataset\n",
        "\n",
        "splited_dataset=cross_validation(dataset, 5)\n",
        "\n",
        "#splited_dataset[0]\n",
        "len(dataset)\n",
        "len(splited_dataset[0])\n"
      ],
      "metadata": {
        "colab": {
          "base_uri": "https://localhost:8080/"
        },
        "id": "6lp-_RnvZrC5",
        "outputId": "5ad1402d-d90d-408d-a30e-e908dc1c0422"
      },
      "execution_count": 42,
      "outputs": [
        {
          "output_type": "execute_result",
          "data": {
            "text/plain": [
              "154"
            ]
          },
          "metadata": {},
          "execution_count": 42
        }
      ]
    },
    {
      "cell_type": "code",
      "source": [
        "# accuracy of the model\n",
        "#pass in two list\n",
        "#return a number\n",
        "\n",
        "def accuracy(true_data, prediction):\n",
        "  count=0\n",
        "  for i in range(len(true_data)):\n",
        "      if true_data[i]==prediction[i]:\n",
        "        count=count+1\n",
        "      \n",
        "  return count/float(len(true_data)) *100\n",
        "\n"
      ],
      "metadata": {
        "id": "iSrr8oBHcnRW"
      },
      "execution_count": 46,
      "outputs": []
    },
    {
      "cell_type": "code",
      "source": [
        "for fold in splited_dataset:\n",
        "  training_dataset=list(splited_dataset)\n",
        "  training_dataset.remove(fold)\n",
        "  training_dataset=sum(training_dataset,[])\n",
        "  print(len(training_dataset))"
      ],
      "metadata": {
        "colab": {
          "base_uri": "https://localhost:8080/"
        },
        "id": "3tysv0LV2hFQ",
        "outputId": "f696e639-7690-4f7f-b16e-bb3f77fa6f4e"
      },
      "execution_count": 57,
      "outputs": [
        {
          "output_type": "stream",
          "name": "stdout",
          "text": [
            "614\n",
            "614\n",
            "614\n",
            "614\n",
            "616\n"
          ]
        }
      ]
    },
    {
      "cell_type": "code",
      "source": [
        "#evaluate the model\n",
        "def evaluate_model(dataset,model,num_fold,*args):\n",
        "    splitted_dataset=cross_validation(dataset,num_fold)\n",
        "    score=list()\n",
        "    for fold in splitted_dataset:\n",
        "      training_dataset=list(splitted_dataset)\n",
        "      training_dataset.remove(fold)\n",
        "      training_dataset=sum(training_dataset,[]) #usning sum, combine the training_dataset\n",
        "      testing_dataset=list()\n",
        "\n",
        "      for row in fold:\n",
        "          row_copy=list(row)\n",
        "          testing_dataset.append(row_copy)\n",
        "          row_copy[-1]=None\n",
        "      \n",
        "      prediction=model(training_dataset,testing_dataset,*args)\n",
        "      actual=[row[-1] for row in fold]\n",
        "      acc=accuracy(actual, prediction)\n",
        "      score.append(acc)\n",
        "    \n",
        "    return score\n",
        "\n"
      ],
      "metadata": {
        "id": "_MWOXVYbhZ0a"
      },
      "execution_count": 68,
      "outputs": []
    },
    {
      "cell_type": "code",
      "source": [
        "#logistic regression model\n",
        "\n",
        "def prediction(row, coefficients):\n",
        "  yhat=coefficients[0]\n",
        "  for i in range(len(row)-1):\n",
        "    yhat=yhat+coefficients[i+1]*row[i]\n",
        "\n",
        "  return 1/(1.0+exp(-yhat))\n",
        "\n",
        "def using_sgd_update_coefficients(training_data,learning_rate,num_epoch):\n",
        "  coefficients=[0.0 for i in range(len(training_data[0]))]\n",
        "  for epoch in range(num_epoch):\n",
        "    for row in training_data:\n",
        "      yhat=prediction(row,coefficients)\n",
        "      error=row[-1]-yhat\n",
        "      coefficients[0]=coefficients[0] + learning_rate*error*yhat*(1.0-yhat)\n",
        "      for i in range(len(row)-1):\n",
        "        coefficients[i+1]=coefficients[i+1]+learning_rate*error*yhat*(1.0-yhat)*row[i]\n",
        "  return coefficients\n",
        "\n",
        "def logistic_regression(training_data,testing_data,learning_rate,num_epoch):\n",
        "  predictions=list()\n",
        "  coef=using_sgd_update_coefficients(training_data,learning_rate,num_epoch)\n",
        "  for row in testing_data:\n",
        "    yhat=prediction(row,coef)\n",
        "    yhat=round(yhat)\n",
        "    predictions.append(yhat)\n",
        "\n",
        "  return predictions"
      ],
      "metadata": {
        "id": "64AmMAR25AXP"
      },
      "execution_count": 69,
      "outputs": []
    },
    {
      "cell_type": "code",
      "source": [
        "seed(1)\n",
        "dataset=load_data_from_csv_file(\"diabetes.csv\")\n",
        "dataset=dataset[1:] #remove the feature name\n",
        "for i in range(len(dataset[0])):\n",
        "  change_data_type(dataset,i)\n",
        "\n",
        "minmax_list=find_minmax(dataset)\n",
        "rescale_data(dataset,minmax_list)\n",
        "\n",
        "num_fold=10\n",
        "learning_rate=0.1\n",
        "num_epoch=100\n",
        "\n",
        "score=evaluate_model(dataset,logistic_regression,num_fold,learning_rate,num_epoch)\n"
      ],
      "metadata": {
        "colab": {
          "base_uri": "https://localhost:8080/"
        },
        "id": "l7R4y5BSzgOs",
        "outputId": "1d2a9bb3-835d-463c-f897-14a0de249445"
      },
      "execution_count": 70,
      "outputs": [
        {
          "output_type": "stream",
          "name": "stdout",
          "text": [
            "\n"
          ]
        }
      ]
    },
    {
      "cell_type": "code",
      "source": [
        "print(\"average accuracy is :\", sum(score)/len(score))"
      ],
      "metadata": {
        "colab": {
          "base_uri": "https://localhost:8080/"
        },
        "id": "BQai-VFv8ZVW",
        "outputId": "bb81ef67-cbbf-49db-aae9-54809164df77"
      },
      "execution_count": 72,
      "outputs": [
        {
          "output_type": "stream",
          "name": "stdout",
          "text": [
            "average accuracy is : 77.21385281385282\n"
          ]
        }
      ]
    }
  ]
}