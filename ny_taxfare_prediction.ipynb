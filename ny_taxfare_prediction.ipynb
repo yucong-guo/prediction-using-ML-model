{
  "nbformat": 4,
  "nbformat_minor": 0,
  "metadata": {
    "colab": {
      "name": "ny_taxfare_prediction.ipynb",
      "provenance": [],
      "collapsed_sections": [],
      "toc_visible": true
    },
    "kernelspec": {
      "name": "python3",
      "display_name": "Python 3"
    },
    "language_info": {
      "name": "python"
    },
    "accelerator": "GPU"
  },
  "cells": [
    {
      "cell_type": "code",
      "metadata": {
        "colab": {
          "base_uri": "https://localhost:8080/"
        },
        "id": "NTY7giL2QVPk",
        "outputId": "ee1244f4-158f-44d7-9c2b-ce015abde94d"
      },
      "source": [
        "!pip install numpy pandas jovian opendatasets scikit-learn xgboost --quiet\n"
      ],
      "execution_count": 1,
      "outputs": [
        {
          "output_type": "stream",
          "name": "stdout",
          "text": [
            "\u001b[?25l\r\u001b[K     |████▊                           | 10 kB 15.9 MB/s eta 0:00:01\r\u001b[K     |█████████▌                      | 20 kB 14.6 MB/s eta 0:00:01\r\u001b[K     |██████████████▎                 | 30 kB 9.9 MB/s eta 0:00:01\r\u001b[K     |███████████████████             | 40 kB 8.6 MB/s eta 0:00:01\r\u001b[K     |███████████████████████▉        | 51 kB 5.6 MB/s eta 0:00:01\r\u001b[K     |████████████████████████████▋   | 61 kB 6.1 MB/s eta 0:00:01\r\u001b[K     |████████████████████████████████| 68 kB 1.9 MB/s \n",
            "\u001b[?25h  Building wheel for uuid (setup.py) ... \u001b[?25l\u001b[?25hdone\n"
          ]
        }
      ]
    },
    {
      "cell_type": "code",
      "metadata": {
        "id": "E0T1pX4sQjjF"
      },
      "source": [
        "import opendatasets as od"
      ],
      "execution_count": 3,
      "outputs": []
    },
    {
      "cell_type": "code",
      "metadata": {
        "id": "kFnn-0YDQ899"
      },
      "source": [
        "dataset_url = 'https://www.kaggle.com/c/new-york-city-taxi-fare-prediction/overview'\n"
      ],
      "execution_count": 4,
      "outputs": []
    },
    {
      "cell_type": "code",
      "metadata": {
        "colab": {
          "base_uri": "https://localhost:8080/"
        },
        "id": "Dd82leGYQ_DM",
        "outputId": "88bdc4a6-96b9-4efb-9e4d-d9cc21ca2581"
      },
      "source": [
        "%%time\n",
        "od.download(dataset_url)"
      ],
      "execution_count": 5,
      "outputs": [
        {
          "output_type": "stream",
          "name": "stdout",
          "text": [
            "Please provide your Kaggle credentials to download this dataset. Learn more: http://bit.ly/kaggle-creds\n",
            "Your Kaggle username: guocong5340\n",
            "Your Kaggle Key: ··········\n",
            "Downloading new-york-city-taxi-fare-prediction.zip to ./new-york-city-taxi-fare-prediction\n"
          ]
        },
        {
          "output_type": "stream",
          "name": "stderr",
          "text": [
            "100%|██████████| 1.56G/1.56G [00:11<00:00, 146MB/s]\n"
          ]
        },
        {
          "output_type": "stream",
          "name": "stdout",
          "text": [
            "\n",
            "Extracting archive ./new-york-city-taxi-fare-prediction/new-york-city-taxi-fare-prediction.zip to ./new-york-city-taxi-fare-prediction\n",
            "CPU times: user 45.8 s, sys: 13.2 s, total: 59 s\n",
            "Wall time: 2min 29s\n"
          ]
        }
      ]
    },
    {
      "cell_type": "code",
      "metadata": {
        "id": "7w9Tzz8cYVcQ"
      },
      "source": [
        "data_dir = './new-york-city-taxi-fare-prediction'\n"
      ],
      "execution_count": 6,
      "outputs": []
    },
    {
      "cell_type": "code",
      "metadata": {
        "id": "FTvKgMHbZtLT"
      },
      "source": [
        "import pandas as pd\n",
        "import random"
      ],
      "execution_count": 7,
      "outputs": []
    },
    {
      "cell_type": "code",
      "metadata": {
        "colab": {
          "base_uri": "https://localhost:8080/"
        },
        "id": "qM6rDDNAXM_x",
        "outputId": "f1c6e7df-a219-4585-ea40-30ee7ebfb7f6"
      },
      "source": [
        "!head {data_dir}/train.csv"
      ],
      "execution_count": 8,
      "outputs": [
        {
          "output_type": "stream",
          "name": "stdout",
          "text": [
            "key,fare_amount,pickup_datetime,pickup_longitude,pickup_latitude,dropoff_longitude,dropoff_latitude,passenger_count\r\n",
            "2009-06-15 17:26:21.0000001,4.5,2009-06-15 17:26:21 UTC,-73.844311,40.721319,-73.84161,40.712278,1\r\n",
            "2010-01-05 16:52:16.0000002,16.9,2010-01-05 16:52:16 UTC,-74.016048,40.711303,-73.979268,40.782004,1\r\n",
            "2011-08-18 00:35:00.00000049,5.7,2011-08-18 00:35:00 UTC,-73.982738,40.76127,-73.991242,40.750562,2\r\n",
            "2012-04-21 04:30:42.0000001,7.7,2012-04-21 04:30:42 UTC,-73.98713,40.733143,-73.991567,40.758092,1\r\n",
            "2010-03-09 07:51:00.000000135,5.3,2010-03-09 07:51:00 UTC,-73.968095,40.768008,-73.956655,40.783762,1\r\n",
            "2011-01-06 09:50:45.0000002,12.1,2011-01-06 09:50:45 UTC,-74.000964,40.73163,-73.972892,40.758233,1\r\n",
            "2012-11-20 20:35:00.0000001,7.5,2012-11-20 20:35:00 UTC,-73.980002,40.751662,-73.973802,40.764842,1\r\n",
            "2012-01-04 17:22:00.00000081,16.5,2012-01-04 17:22:00 UTC,-73.9513,40.774138,-73.990095,40.751048,1\r\n",
            "2012-12-03 13:10:00.000000125,9,2012-12-03 13:10:00 UTC,-74.006462,40.726713,-73.993078,40.731628,1\r\n"
          ]
        }
      ]
    },
    {
      "cell_type": "markdown",
      "metadata": {
        "id": "Phyd4QtEYoWM"
      },
      "source": [
        "Data column\n",
        "*   key\n",
        "*   fair_amount (target column),\n",
        "*   pickup_datetime,\n",
        "*   pickup_longitude,\n",
        "*   pickup_latitude,\n",
        "*   dropoff_longitude,\n",
        "*   dropoff_latitude,\n",
        "*   passenger_count\n",
        "\n",
        "\n",
        "\n"
      ]
    },
    {
      "cell_type": "markdown",
      "metadata": {
        "id": "TVM_TIYgaHvT"
      },
      "source": [
        "## load data"
      ]
    },
    {
      "cell_type": "code",
      "metadata": {
        "colab": {
          "base_uri": "https://localhost:8080/"
        },
        "id": "X6bjy2gpZJ4M",
        "outputId": "bc701ee7-ce6f-45a0-fbee-48d66d0c7830"
      },
      "source": [
        "%%time\n",
        "sample_frac = 0.0002\n",
        "selected_cols = 'fare_amount,pickup_datetime,pickup_longitude,pickup_latitude,dropoff_longitude,dropoff_latitude,passenger_count'.split(',')\n",
        "dtypes = {\n",
        "    'fare_amount': 'float32',\n",
        "    'pickup_longitude': 'float32',\n",
        "    'pickup_latitude': 'float32',\n",
        "    'dropoff_longitude': 'float32',\n",
        "    'passenger_count': 'float32'\n",
        "}\n",
        "\n",
        "def skip_row(row_idx):\n",
        "    if row_idx == 0:\n",
        "        return False\n",
        "    return random.random() > sample_frac\n",
        "\n",
        "random.seed(42)\n",
        "df = pd.read_csv(data_dir+\"/train.csv\", \n",
        "                 usecols=selected_cols, \n",
        "                 dtype=dtypes, \n",
        "                 parse_dates=['pickup_datetime'], \n",
        "                 skiprows=skip_row)"
      ],
      "execution_count": 9,
      "outputs": [
        {
          "output_type": "stream",
          "name": "stdout",
          "text": [
            "CPU times: user 37.8 s, sys: 1.07 s, total: 38.9 s\n",
            "Wall time: 51.2 s\n"
          ]
        }
      ]
    },
    {
      "cell_type": "code",
      "metadata": {
        "colab": {
          "base_uri": "https://localhost:8080/",
          "height": 609
        },
        "id": "o-RKsGRBaya9",
        "outputId": "c4a9d739-d462-43d8-ac84-01a4cd731ea6"
      },
      "source": [
        "df\n"
      ],
      "execution_count": 10,
      "outputs": [
        {
          "output_type": "execute_result",
          "data": {
            "text/html": [
              "<div>\n",
              "<style scoped>\n",
              "    .dataframe tbody tr th:only-of-type {\n",
              "        vertical-align: middle;\n",
              "    }\n",
              "\n",
              "    .dataframe tbody tr th {\n",
              "        vertical-align: top;\n",
              "    }\n",
              "\n",
              "    .dataframe thead th {\n",
              "        text-align: right;\n",
              "    }\n",
              "</style>\n",
              "<table border=\"1\" class=\"dataframe\">\n",
              "  <thead>\n",
              "    <tr style=\"text-align: right;\">\n",
              "      <th></th>\n",
              "      <th>fare_amount</th>\n",
              "      <th>pickup_datetime</th>\n",
              "      <th>pickup_longitude</th>\n",
              "      <th>pickup_latitude</th>\n",
              "      <th>dropoff_longitude</th>\n",
              "      <th>dropoff_latitude</th>\n",
              "      <th>passenger_count</th>\n",
              "    </tr>\n",
              "  </thead>\n",
              "  <tbody>\n",
              "    <tr>\n",
              "      <th>0</th>\n",
              "      <td>5.7</td>\n",
              "      <td>2010-06-02 13:47:00+00:00</td>\n",
              "      <td>-73.965118</td>\n",
              "      <td>40.796040</td>\n",
              "      <td>-73.979431</td>\n",
              "      <td>40.781878</td>\n",
              "      <td>1.0</td>\n",
              "    </tr>\n",
              "    <tr>\n",
              "      <th>1</th>\n",
              "      <td>12.5</td>\n",
              "      <td>2009-12-25 02:10:00+00:00</td>\n",
              "      <td>-73.993279</td>\n",
              "      <td>40.730091</td>\n",
              "      <td>-73.986778</td>\n",
              "      <td>40.771552</td>\n",
              "      <td>3.0</td>\n",
              "    </tr>\n",
              "    <tr>\n",
              "      <th>2</th>\n",
              "      <td>4.9</td>\n",
              "      <td>2010-08-24 14:11:00+00:00</td>\n",
              "      <td>0.000000</td>\n",
              "      <td>0.000000</td>\n",
              "      <td>0.000000</td>\n",
              "      <td>0.000000</td>\n",
              "      <td>1.0</td>\n",
              "    </tr>\n",
              "    <tr>\n",
              "      <th>3</th>\n",
              "      <td>16.5</td>\n",
              "      <td>2013-06-17 07:32:22+00:00</td>\n",
              "      <td>-73.966316</td>\n",
              "      <td>40.794621</td>\n",
              "      <td>-73.969887</td>\n",
              "      <td>40.750738</td>\n",
              "      <td>1.0</td>\n",
              "    </tr>\n",
              "    <tr>\n",
              "      <th>4</th>\n",
              "      <td>10.1</td>\n",
              "      <td>2009-10-18 17:04:00+00:00</td>\n",
              "      <td>-73.999603</td>\n",
              "      <td>40.733475</td>\n",
              "      <td>-73.987015</td>\n",
              "      <td>40.767592</td>\n",
              "      <td>1.0</td>\n",
              "    </tr>\n",
              "    <tr>\n",
              "      <th>...</th>\n",
              "      <td>...</td>\n",
              "      <td>...</td>\n",
              "      <td>...</td>\n",
              "      <td>...</td>\n",
              "      <td>...</td>\n",
              "      <td>...</td>\n",
              "      <td>...</td>\n",
              "    </tr>\n",
              "    <tr>\n",
              "      <th>11132</th>\n",
              "      <td>5.3</td>\n",
              "      <td>2012-06-03 00:20:42+00:00</td>\n",
              "      <td>-73.991402</td>\n",
              "      <td>40.765469</td>\n",
              "      <td>-74.004730</td>\n",
              "      <td>40.751998</td>\n",
              "      <td>1.0</td>\n",
              "    </tr>\n",
              "    <tr>\n",
              "      <th>11133</th>\n",
              "      <td>16.5</td>\n",
              "      <td>2010-10-05 21:21:38+00:00</td>\n",
              "      <td>-73.989868</td>\n",
              "      <td>40.729565</td>\n",
              "      <td>-73.929832</td>\n",
              "      <td>40.759193</td>\n",
              "      <td>1.0</td>\n",
              "    </tr>\n",
              "    <tr>\n",
              "      <th>11134</th>\n",
              "      <td>3.3</td>\n",
              "      <td>2012-08-01 12:28:06+00:00</td>\n",
              "      <td>-73.971855</td>\n",
              "      <td>40.763168</td>\n",
              "      <td>-73.968712</td>\n",
              "      <td>40.767423</td>\n",
              "      <td>1.0</td>\n",
              "    </tr>\n",
              "    <tr>\n",
              "      <th>11135</th>\n",
              "      <td>18.5</td>\n",
              "      <td>2010-02-27 00:13:00+00:00</td>\n",
              "      <td>-73.985970</td>\n",
              "      <td>40.727886</td>\n",
              "      <td>-73.967903</td>\n",
              "      <td>40.792995</td>\n",
              "      <td>5.0</td>\n",
              "    </tr>\n",
              "    <tr>\n",
              "      <th>11136</th>\n",
              "      <td>6.5</td>\n",
              "      <td>2010-02-11 22:02:00+00:00</td>\n",
              "      <td>-73.966888</td>\n",
              "      <td>40.756447</td>\n",
              "      <td>-73.988197</td>\n",
              "      <td>40.739198</td>\n",
              "      <td>1.0</td>\n",
              "    </tr>\n",
              "  </tbody>\n",
              "</table>\n",
              "<p>11137 rows × 7 columns</p>\n",
              "</div>"
            ],
            "text/plain": [
              "       fare_amount           pickup_datetime  ...  dropoff_latitude  passenger_count\n",
              "0              5.7 2010-06-02 13:47:00+00:00  ...         40.781878              1.0\n",
              "1             12.5 2009-12-25 02:10:00+00:00  ...         40.771552              3.0\n",
              "2              4.9 2010-08-24 14:11:00+00:00  ...          0.000000              1.0\n",
              "3             16.5 2013-06-17 07:32:22+00:00  ...         40.750738              1.0\n",
              "4             10.1 2009-10-18 17:04:00+00:00  ...         40.767592              1.0\n",
              "...            ...                       ...  ...               ...              ...\n",
              "11132          5.3 2012-06-03 00:20:42+00:00  ...         40.751998              1.0\n",
              "11133         16.5 2010-10-05 21:21:38+00:00  ...         40.759193              1.0\n",
              "11134          3.3 2012-08-01 12:28:06+00:00  ...         40.767423              1.0\n",
              "11135         18.5 2010-02-27 00:13:00+00:00  ...         40.792995              5.0\n",
              "11136          6.5 2010-02-11 22:02:00+00:00  ...         40.739198              1.0\n",
              "\n",
              "[11137 rows x 7 columns]"
            ]
          },
          "metadata": {},
          "execution_count": 10
        }
      ]
    },
    {
      "cell_type": "markdown",
      "metadata": {
        "id": "gIYszxgnbptP"
      },
      "source": [
        "\n",
        "## data processing\n",
        "extract year, month, day, hour from given data\n"
      ]
    },
    {
      "cell_type": "code",
      "metadata": {
        "colab": {
          "base_uri": "https://localhost:8080/",
          "height": 626
        },
        "id": "mWAAN2crcO35",
        "outputId": "48850b6b-6cf4-4ad0-ce1a-67744c024085"
      },
      "source": [
        "def date(df, col):\n",
        "    df[col + '-year'] = df[col].dt.year\n",
        "    df[col + '-month'] = df[col].dt.month\n",
        "    df[col + '-day'] = df[col].dt.day\n",
        "    df[col + '-hour'] = df[col].dt.hour\n",
        "date(df, 'pickup_datetime')\n",
        "df"
      ],
      "execution_count": 11,
      "outputs": [
        {
          "output_type": "execute_result",
          "data": {
            "text/html": [
              "<div>\n",
              "<style scoped>\n",
              "    .dataframe tbody tr th:only-of-type {\n",
              "        vertical-align: middle;\n",
              "    }\n",
              "\n",
              "    .dataframe tbody tr th {\n",
              "        vertical-align: top;\n",
              "    }\n",
              "\n",
              "    .dataframe thead th {\n",
              "        text-align: right;\n",
              "    }\n",
              "</style>\n",
              "<table border=\"1\" class=\"dataframe\">\n",
              "  <thead>\n",
              "    <tr style=\"text-align: right;\">\n",
              "      <th></th>\n",
              "      <th>fare_amount</th>\n",
              "      <th>pickup_datetime</th>\n",
              "      <th>pickup_longitude</th>\n",
              "      <th>pickup_latitude</th>\n",
              "      <th>dropoff_longitude</th>\n",
              "      <th>dropoff_latitude</th>\n",
              "      <th>passenger_count</th>\n",
              "      <th>pickup_datetime-year</th>\n",
              "      <th>pickup_datetime-month</th>\n",
              "      <th>pickup_datetime-day</th>\n",
              "      <th>pickup_datetime-hour</th>\n",
              "    </tr>\n",
              "  </thead>\n",
              "  <tbody>\n",
              "    <tr>\n",
              "      <th>0</th>\n",
              "      <td>5.7</td>\n",
              "      <td>2010-06-02 13:47:00+00:00</td>\n",
              "      <td>-73.965118</td>\n",
              "      <td>40.796040</td>\n",
              "      <td>-73.979431</td>\n",
              "      <td>40.781878</td>\n",
              "      <td>1.0</td>\n",
              "      <td>2010</td>\n",
              "      <td>6</td>\n",
              "      <td>2</td>\n",
              "      <td>13</td>\n",
              "    </tr>\n",
              "    <tr>\n",
              "      <th>1</th>\n",
              "      <td>12.5</td>\n",
              "      <td>2009-12-25 02:10:00+00:00</td>\n",
              "      <td>-73.993279</td>\n",
              "      <td>40.730091</td>\n",
              "      <td>-73.986778</td>\n",
              "      <td>40.771552</td>\n",
              "      <td>3.0</td>\n",
              "      <td>2009</td>\n",
              "      <td>12</td>\n",
              "      <td>25</td>\n",
              "      <td>2</td>\n",
              "    </tr>\n",
              "    <tr>\n",
              "      <th>2</th>\n",
              "      <td>4.9</td>\n",
              "      <td>2010-08-24 14:11:00+00:00</td>\n",
              "      <td>0.000000</td>\n",
              "      <td>0.000000</td>\n",
              "      <td>0.000000</td>\n",
              "      <td>0.000000</td>\n",
              "      <td>1.0</td>\n",
              "      <td>2010</td>\n",
              "      <td>8</td>\n",
              "      <td>24</td>\n",
              "      <td>14</td>\n",
              "    </tr>\n",
              "    <tr>\n",
              "      <th>3</th>\n",
              "      <td>16.5</td>\n",
              "      <td>2013-06-17 07:32:22+00:00</td>\n",
              "      <td>-73.966316</td>\n",
              "      <td>40.794621</td>\n",
              "      <td>-73.969887</td>\n",
              "      <td>40.750738</td>\n",
              "      <td>1.0</td>\n",
              "      <td>2013</td>\n",
              "      <td>6</td>\n",
              "      <td>17</td>\n",
              "      <td>7</td>\n",
              "    </tr>\n",
              "    <tr>\n",
              "      <th>4</th>\n",
              "      <td>10.1</td>\n",
              "      <td>2009-10-18 17:04:00+00:00</td>\n",
              "      <td>-73.999603</td>\n",
              "      <td>40.733475</td>\n",
              "      <td>-73.987015</td>\n",
              "      <td>40.767592</td>\n",
              "      <td>1.0</td>\n",
              "      <td>2009</td>\n",
              "      <td>10</td>\n",
              "      <td>18</td>\n",
              "      <td>17</td>\n",
              "    </tr>\n",
              "    <tr>\n",
              "      <th>...</th>\n",
              "      <td>...</td>\n",
              "      <td>...</td>\n",
              "      <td>...</td>\n",
              "      <td>...</td>\n",
              "      <td>...</td>\n",
              "      <td>...</td>\n",
              "      <td>...</td>\n",
              "      <td>...</td>\n",
              "      <td>...</td>\n",
              "      <td>...</td>\n",
              "      <td>...</td>\n",
              "    </tr>\n",
              "    <tr>\n",
              "      <th>11132</th>\n",
              "      <td>5.3</td>\n",
              "      <td>2012-06-03 00:20:42+00:00</td>\n",
              "      <td>-73.991402</td>\n",
              "      <td>40.765469</td>\n",
              "      <td>-74.004730</td>\n",
              "      <td>40.751998</td>\n",
              "      <td>1.0</td>\n",
              "      <td>2012</td>\n",
              "      <td>6</td>\n",
              "      <td>3</td>\n",
              "      <td>0</td>\n",
              "    </tr>\n",
              "    <tr>\n",
              "      <th>11133</th>\n",
              "      <td>16.5</td>\n",
              "      <td>2010-10-05 21:21:38+00:00</td>\n",
              "      <td>-73.989868</td>\n",
              "      <td>40.729565</td>\n",
              "      <td>-73.929832</td>\n",
              "      <td>40.759193</td>\n",
              "      <td>1.0</td>\n",
              "      <td>2010</td>\n",
              "      <td>10</td>\n",
              "      <td>5</td>\n",
              "      <td>21</td>\n",
              "    </tr>\n",
              "    <tr>\n",
              "      <th>11134</th>\n",
              "      <td>3.3</td>\n",
              "      <td>2012-08-01 12:28:06+00:00</td>\n",
              "      <td>-73.971855</td>\n",
              "      <td>40.763168</td>\n",
              "      <td>-73.968712</td>\n",
              "      <td>40.767423</td>\n",
              "      <td>1.0</td>\n",
              "      <td>2012</td>\n",
              "      <td>8</td>\n",
              "      <td>1</td>\n",
              "      <td>12</td>\n",
              "    </tr>\n",
              "    <tr>\n",
              "      <th>11135</th>\n",
              "      <td>18.5</td>\n",
              "      <td>2010-02-27 00:13:00+00:00</td>\n",
              "      <td>-73.985970</td>\n",
              "      <td>40.727886</td>\n",
              "      <td>-73.967903</td>\n",
              "      <td>40.792995</td>\n",
              "      <td>5.0</td>\n",
              "      <td>2010</td>\n",
              "      <td>2</td>\n",
              "      <td>27</td>\n",
              "      <td>0</td>\n",
              "    </tr>\n",
              "    <tr>\n",
              "      <th>11136</th>\n",
              "      <td>6.5</td>\n",
              "      <td>2010-02-11 22:02:00+00:00</td>\n",
              "      <td>-73.966888</td>\n",
              "      <td>40.756447</td>\n",
              "      <td>-73.988197</td>\n",
              "      <td>40.739198</td>\n",
              "      <td>1.0</td>\n",
              "      <td>2010</td>\n",
              "      <td>2</td>\n",
              "      <td>11</td>\n",
              "      <td>22</td>\n",
              "    </tr>\n",
              "  </tbody>\n",
              "</table>\n",
              "<p>11137 rows × 11 columns</p>\n",
              "</div>"
            ],
            "text/plain": [
              "       fare_amount  ... pickup_datetime-hour\n",
              "0              5.7  ...                   13\n",
              "1             12.5  ...                    2\n",
              "2              4.9  ...                   14\n",
              "3             16.5  ...                    7\n",
              "4             10.1  ...                   17\n",
              "...            ...  ...                  ...\n",
              "11132          5.3  ...                    0\n",
              "11133         16.5  ...                   21\n",
              "11134          3.3  ...                   12\n",
              "11135         18.5  ...                    0\n",
              "11136          6.5  ...                   22\n",
              "\n",
              "[11137 rows x 11 columns]"
            ]
          },
          "metadata": {},
          "execution_count": 11
        }
      ]
    },
    {
      "cell_type": "markdown",
      "metadata": {
        "id": "hFtgpG8actAM"
      },
      "source": [
        "calculate distance from given longitude and latitude"
      ]
    },
    {
      "cell_type": "code",
      "metadata": {
        "colab": {
          "base_uri": "https://localhost:8080/",
          "height": 626
        },
        "id": "Q7Nvj7OkcsLe",
        "outputId": "584d1833-be31-42ec-b8f6-bfa6e7df45cb"
      },
      "source": [
        "#reference:\n",
        "#https://stackoverflow.com/questions/29545704/fast-haversine-approximation-python-pandas\n",
        "\n",
        "import numpy as np\n",
        "from math import radians, cos, sin, asin, sqrt\n",
        "\n",
        "def haversine_np(lon1, lat1, lon2, lat2):\n",
        "    \"\"\"\n",
        "    Calculate the great circle distance between two points\n",
        "    on the earth (specified in decimal degrees)\n",
        "\n",
        "    All args must be of equal length.    \n",
        "\n",
        "    \"\"\"\n",
        "    lon1, lat1, lon2, lat2 = map(np.radians, [lon1, lat1, lon2, lat2])\n",
        "\n",
        "    dlon = lon2 - lon1\n",
        "    dlat = lat2 - lat1\n",
        "\n",
        "    a = np.sin(dlat/2.0)**2 + np.cos(lat1) * np.cos(lat2) * np.sin(dlon/2.0)**2\n",
        "\n",
        "    c = 2 * np.arcsin(np.sqrt(a))\n",
        "    km = 6367 * c\n",
        "    return km\n",
        "\n",
        "def distance(df):\n",
        "    df['distance'] = haversine_np(df['pickup_longitude'], df['pickup_latitude'], df['dropoff_longitude'], df['dropoff_latitude'])\n",
        "\n",
        "distance(df)\n",
        "df"
      ],
      "execution_count": 12,
      "outputs": [
        {
          "output_type": "execute_result",
          "data": {
            "text/html": [
              "<div>\n",
              "<style scoped>\n",
              "    .dataframe tbody tr th:only-of-type {\n",
              "        vertical-align: middle;\n",
              "    }\n",
              "\n",
              "    .dataframe tbody tr th {\n",
              "        vertical-align: top;\n",
              "    }\n",
              "\n",
              "    .dataframe thead th {\n",
              "        text-align: right;\n",
              "    }\n",
              "</style>\n",
              "<table border=\"1\" class=\"dataframe\">\n",
              "  <thead>\n",
              "    <tr style=\"text-align: right;\">\n",
              "      <th></th>\n",
              "      <th>fare_amount</th>\n",
              "      <th>pickup_datetime</th>\n",
              "      <th>pickup_longitude</th>\n",
              "      <th>pickup_latitude</th>\n",
              "      <th>dropoff_longitude</th>\n",
              "      <th>dropoff_latitude</th>\n",
              "      <th>passenger_count</th>\n",
              "      <th>pickup_datetime-year</th>\n",
              "      <th>pickup_datetime-month</th>\n",
              "      <th>pickup_datetime-day</th>\n",
              "      <th>pickup_datetime-hour</th>\n",
              "      <th>distance</th>\n",
              "    </tr>\n",
              "  </thead>\n",
              "  <tbody>\n",
              "    <tr>\n",
              "      <th>0</th>\n",
              "      <td>5.7</td>\n",
              "      <td>2010-06-02 13:47:00+00:00</td>\n",
              "      <td>-73.965118</td>\n",
              "      <td>40.796040</td>\n",
              "      <td>-73.979431</td>\n",
              "      <td>40.781878</td>\n",
              "      <td>1.0</td>\n",
              "      <td>2010</td>\n",
              "      <td>6</td>\n",
              "      <td>2</td>\n",
              "      <td>13</td>\n",
              "      <td>1.981816</td>\n",
              "    </tr>\n",
              "    <tr>\n",
              "      <th>1</th>\n",
              "      <td>12.5</td>\n",
              "      <td>2009-12-25 02:10:00+00:00</td>\n",
              "      <td>-73.993279</td>\n",
              "      <td>40.730091</td>\n",
              "      <td>-73.986778</td>\n",
              "      <td>40.771552</td>\n",
              "      <td>3.0</td>\n",
              "      <td>2009</td>\n",
              "      <td>12</td>\n",
              "      <td>25</td>\n",
              "      <td>2</td>\n",
              "      <td>4.639648</td>\n",
              "    </tr>\n",
              "    <tr>\n",
              "      <th>2</th>\n",
              "      <td>4.9</td>\n",
              "      <td>2010-08-24 14:11:00+00:00</td>\n",
              "      <td>0.000000</td>\n",
              "      <td>0.000000</td>\n",
              "      <td>0.000000</td>\n",
              "      <td>0.000000</td>\n",
              "      <td>1.0</td>\n",
              "      <td>2010</td>\n",
              "      <td>8</td>\n",
              "      <td>24</td>\n",
              "      <td>14</td>\n",
              "      <td>0.000000</td>\n",
              "    </tr>\n",
              "    <tr>\n",
              "      <th>3</th>\n",
              "      <td>16.5</td>\n",
              "      <td>2013-06-17 07:32:22+00:00</td>\n",
              "      <td>-73.966316</td>\n",
              "      <td>40.794621</td>\n",
              "      <td>-73.969887</td>\n",
              "      <td>40.750738</td>\n",
              "      <td>1.0</td>\n",
              "      <td>2013</td>\n",
              "      <td>6</td>\n",
              "      <td>17</td>\n",
              "      <td>7</td>\n",
              "      <td>4.885573</td>\n",
              "    </tr>\n",
              "    <tr>\n",
              "      <th>4</th>\n",
              "      <td>10.1</td>\n",
              "      <td>2009-10-18 17:04:00+00:00</td>\n",
              "      <td>-73.999603</td>\n",
              "      <td>40.733475</td>\n",
              "      <td>-73.987015</td>\n",
              "      <td>40.767592</td>\n",
              "      <td>1.0</td>\n",
              "      <td>2009</td>\n",
              "      <td>10</td>\n",
              "      <td>18</td>\n",
              "      <td>17</td>\n",
              "      <td>3.936489</td>\n",
              "    </tr>\n",
              "    <tr>\n",
              "      <th>...</th>\n",
              "      <td>...</td>\n",
              "      <td>...</td>\n",
              "      <td>...</td>\n",
              "      <td>...</td>\n",
              "      <td>...</td>\n",
              "      <td>...</td>\n",
              "      <td>...</td>\n",
              "      <td>...</td>\n",
              "      <td>...</td>\n",
              "      <td>...</td>\n",
              "      <td>...</td>\n",
              "      <td>...</td>\n",
              "    </tr>\n",
              "    <tr>\n",
              "      <th>11132</th>\n",
              "      <td>5.3</td>\n",
              "      <td>2012-06-03 00:20:42+00:00</td>\n",
              "      <td>-73.991402</td>\n",
              "      <td>40.765469</td>\n",
              "      <td>-74.004730</td>\n",
              "      <td>40.751998</td>\n",
              "      <td>1.0</td>\n",
              "      <td>2012</td>\n",
              "      <td>6</td>\n",
              "      <td>3</td>\n",
              "      <td>0</td>\n",
              "      <td>1.870865</td>\n",
              "    </tr>\n",
              "    <tr>\n",
              "      <th>11133</th>\n",
              "      <td>16.5</td>\n",
              "      <td>2010-10-05 21:21:38+00:00</td>\n",
              "      <td>-73.989868</td>\n",
              "      <td>40.729565</td>\n",
              "      <td>-73.929832</td>\n",
              "      <td>40.759193</td>\n",
              "      <td>1.0</td>\n",
              "      <td>2010</td>\n",
              "      <td>10</td>\n",
              "      <td>5</td>\n",
              "      <td>21</td>\n",
              "      <td>6.032333</td>\n",
              "    </tr>\n",
              "    <tr>\n",
              "      <th>11134</th>\n",
              "      <td>3.3</td>\n",
              "      <td>2012-08-01 12:28:06+00:00</td>\n",
              "      <td>-73.971855</td>\n",
              "      <td>40.763168</td>\n",
              "      <td>-73.968712</td>\n",
              "      <td>40.767423</td>\n",
              "      <td>1.0</td>\n",
              "      <td>2012</td>\n",
              "      <td>8</td>\n",
              "      <td>1</td>\n",
              "      <td>12</td>\n",
              "      <td>0.542174</td>\n",
              "    </tr>\n",
              "    <tr>\n",
              "      <th>11135</th>\n",
              "      <td>18.5</td>\n",
              "      <td>2010-02-27 00:13:00+00:00</td>\n",
              "      <td>-73.985970</td>\n",
              "      <td>40.727886</td>\n",
              "      <td>-73.967903</td>\n",
              "      <td>40.792995</td>\n",
              "      <td>5.0</td>\n",
              "      <td>2010</td>\n",
              "      <td>2</td>\n",
              "      <td>27</td>\n",
              "      <td>0</td>\n",
              "      <td>7.393392</td>\n",
              "    </tr>\n",
              "    <tr>\n",
              "      <th>11136</th>\n",
              "      <td>6.5</td>\n",
              "      <td>2010-02-11 22:02:00+00:00</td>\n",
              "      <td>-73.966888</td>\n",
              "      <td>40.756447</td>\n",
              "      <td>-73.988197</td>\n",
              "      <td>40.739198</td>\n",
              "      <td>1.0</td>\n",
              "      <td>2010</td>\n",
              "      <td>2</td>\n",
              "      <td>11</td>\n",
              "      <td>22</td>\n",
              "      <td>2.625292</td>\n",
              "    </tr>\n",
              "  </tbody>\n",
              "</table>\n",
              "<p>11137 rows × 12 columns</p>\n",
              "</div>"
            ],
            "text/plain": [
              "       fare_amount           pickup_datetime  ...  pickup_datetime-hour  distance\n",
              "0              5.7 2010-06-02 13:47:00+00:00  ...                    13  1.981816\n",
              "1             12.5 2009-12-25 02:10:00+00:00  ...                     2  4.639648\n",
              "2              4.9 2010-08-24 14:11:00+00:00  ...                    14  0.000000\n",
              "3             16.5 2013-06-17 07:32:22+00:00  ...                     7  4.885573\n",
              "4             10.1 2009-10-18 17:04:00+00:00  ...                    17  3.936489\n",
              "...            ...                       ...  ...                   ...       ...\n",
              "11132          5.3 2012-06-03 00:20:42+00:00  ...                     0  1.870865\n",
              "11133         16.5 2010-10-05 21:21:38+00:00  ...                    21  6.032333\n",
              "11134          3.3 2012-08-01 12:28:06+00:00  ...                    12  0.542174\n",
              "11135         18.5 2010-02-27 00:13:00+00:00  ...                     0  7.393392\n",
              "11136          6.5 2010-02-11 22:02:00+00:00  ...                    22  2.625292\n",
              "\n",
              "[11137 rows x 12 columns]"
            ]
          },
          "metadata": {},
          "execution_count": 12
        }
      ]
    },
    {
      "cell_type": "markdown",
      "metadata": {
        "id": "6JufClM1dbKN"
      },
      "source": [
        "## seperate df into training set and validation set"
      ]
    },
    {
      "cell_type": "code",
      "metadata": {
        "id": "nAcqyky7bhUY"
      },
      "source": [
        "from sklearn.model_selection import train_test_split\n"
      ],
      "execution_count": 13,
      "outputs": []
    },
    {
      "cell_type": "markdown",
      "metadata": {
        "id": "NxRVm2ipdLoc"
      },
      "source": [
        "\n",
        "**TRAINING DATA**\n",
        "\n",
        "\n"
      ]
    },
    {
      "cell_type": "code",
      "metadata": {
        "id": "QdSAImH0cOTN"
      },
      "source": [
        "train_df, val_df = train_test_split(df, test_size=0.2, random_state=42)\n"
      ],
      "execution_count": 14,
      "outputs": []
    },
    {
      "cell_type": "code",
      "metadata": {
        "colab": {
          "base_uri": "https://localhost:8080/"
        },
        "id": "suqgt_TIcRc3",
        "outputId": "97891f28-3981-45af-f03f-5f666f40057a"
      },
      "source": [
        "len(train_df), len(val_df)\n"
      ],
      "execution_count": 15,
      "outputs": [
        {
          "output_type": "execute_result",
          "data": {
            "text/plain": [
              "(8909, 2228)"
            ]
          },
          "metadata": {},
          "execution_count": 15
        }
      ]
    },
    {
      "cell_type": "code",
      "metadata": {
        "id": "QMmTUhagcd-_"
      },
      "source": [
        "#remove sample data with missing values\n",
        "train_df = train_df.dropna()\n",
        "val_df = val_df.dropna()"
      ],
      "execution_count": 16,
      "outputs": []
    },
    {
      "cell_type": "code",
      "metadata": {
        "colab": {
          "base_uri": "https://localhost:8080/"
        },
        "id": "2texDLVgclVr",
        "outputId": "91ea23d8-d1a5-4aa7-b94f-01446889fae4"
      },
      "source": [
        "len(train_df), len(val_df)"
      ],
      "execution_count": 17,
      "outputs": [
        {
          "output_type": "execute_result",
          "data": {
            "text/plain": [
              "(8909, 2228)"
            ]
          },
          "metadata": {},
          "execution_count": 17
        }
      ]
    },
    {
      "cell_type": "code",
      "metadata": {
        "colab": {
          "base_uri": "https://localhost:8080/"
        },
        "id": "ibbOnFsgcnJo",
        "outputId": "f1a48eb8-f8ab-4502-fe83-f4cfd228cf76"
      },
      "source": [
        "df.columns"
      ],
      "execution_count": 18,
      "outputs": [
        {
          "output_type": "execute_result",
          "data": {
            "text/plain": [
              "Index(['fare_amount', 'pickup_datetime', 'pickup_longitude', 'pickup_latitude',\n",
              "       'dropoff_longitude', 'dropoff_latitude', 'passenger_count',\n",
              "       'pickup_datetime-year', 'pickup_datetime-month', 'pickup_datetime-day',\n",
              "       'pickup_datetime-hour', 'distance'],\n",
              "      dtype='object')"
            ]
          },
          "metadata": {},
          "execution_count": 18
        }
      ]
    },
    {
      "cell_type": "code",
      "metadata": {
        "id": "YW9XygMzcr9c"
      },
      "source": [
        "input_cols = ['pickup_longitude', 'pickup_latitude',\n",
        "       'dropoff_longitude', 'dropoff_latitude', 'passenger_count',\n",
        "       'pickup_datetime-year', 'pickup_datetime-month', 'pickup_datetime-day', 'pickup_datetime-hour', 'distance',]\n",
        "target_col = 'fare_amount'\n"
      ],
      "execution_count": 19,
      "outputs": []
    },
    {
      "cell_type": "code",
      "metadata": {
        "id": "DE2nfnEucy8V"
      },
      "source": [
        "train_inputs = train_df[input_cols]\n",
        "train_targets = train_df[target_col]\n"
      ],
      "execution_count": 20,
      "outputs": []
    },
    {
      "cell_type": "code",
      "metadata": {
        "colab": {
          "base_uri": "https://localhost:8080/",
          "height": 456
        },
        "id": "0euouwMFc8WL",
        "outputId": "e3d70493-7d40-4d3e-d465-672d4a886cc8"
      },
      "source": [
        "train_inputs\n"
      ],
      "execution_count": 21,
      "outputs": [
        {
          "output_type": "execute_result",
          "data": {
            "text/html": [
              "<div>\n",
              "<style scoped>\n",
              "    .dataframe tbody tr th:only-of-type {\n",
              "        vertical-align: middle;\n",
              "    }\n",
              "\n",
              "    .dataframe tbody tr th {\n",
              "        vertical-align: top;\n",
              "    }\n",
              "\n",
              "    .dataframe thead th {\n",
              "        text-align: right;\n",
              "    }\n",
              "</style>\n",
              "<table border=\"1\" class=\"dataframe\">\n",
              "  <thead>\n",
              "    <tr style=\"text-align: right;\">\n",
              "      <th></th>\n",
              "      <th>pickup_longitude</th>\n",
              "      <th>pickup_latitude</th>\n",
              "      <th>dropoff_longitude</th>\n",
              "      <th>dropoff_latitude</th>\n",
              "      <th>passenger_count</th>\n",
              "      <th>pickup_datetime-year</th>\n",
              "      <th>pickup_datetime-month</th>\n",
              "      <th>pickup_datetime-day</th>\n",
              "      <th>pickup_datetime-hour</th>\n",
              "      <th>distance</th>\n",
              "    </tr>\n",
              "  </thead>\n",
              "  <tbody>\n",
              "    <tr>\n",
              "      <th>5967</th>\n",
              "      <td>-73.968666</td>\n",
              "      <td>40.791473</td>\n",
              "      <td>-73.970329</td>\n",
              "      <td>40.799167</td>\n",
              "      <td>5.0</td>\n",
              "      <td>2011</td>\n",
              "      <td>3</td>\n",
              "      <td>2</td>\n",
              "      <td>13</td>\n",
              "      <td>0.866177</td>\n",
              "    </tr>\n",
              "    <tr>\n",
              "      <th>10615</th>\n",
              "      <td>-73.966949</td>\n",
              "      <td>40.763966</td>\n",
              "      <td>-73.967087</td>\n",
              "      <td>40.768969</td>\n",
              "      <td>1.0</td>\n",
              "      <td>2012</td>\n",
              "      <td>1</td>\n",
              "      <td>6</td>\n",
              "      <td>18</td>\n",
              "      <td>0.556107</td>\n",
              "    </tr>\n",
              "    <tr>\n",
              "      <th>6615</th>\n",
              "      <td>-73.970901</td>\n",
              "      <td>40.748089</td>\n",
              "      <td>-73.958557</td>\n",
              "      <td>40.784031</td>\n",
              "      <td>1.0</td>\n",
              "      <td>2015</td>\n",
              "      <td>4</td>\n",
              "      <td>5</td>\n",
              "      <td>9</td>\n",
              "      <td>4.126923</td>\n",
              "    </tr>\n",
              "    <tr>\n",
              "      <th>8459</th>\n",
              "      <td>-73.982933</td>\n",
              "      <td>40.756550</td>\n",
              "      <td>-73.963066</td>\n",
              "      <td>40.758380</td>\n",
              "      <td>2.0</td>\n",
              "      <td>2014</td>\n",
              "      <td>2</td>\n",
              "      <td>4</td>\n",
              "      <td>12</td>\n",
              "      <td>1.684818</td>\n",
              "    </tr>\n",
              "    <tr>\n",
              "      <th>4881</th>\n",
              "      <td>-73.998924</td>\n",
              "      <td>40.713676</td>\n",
              "      <td>-73.990837</td>\n",
              "      <td>40.750352</td>\n",
              "      <td>1.0</td>\n",
              "      <td>2009</td>\n",
              "      <td>10</td>\n",
              "      <td>10</td>\n",
              "      <td>14</td>\n",
              "      <td>4.132227</td>\n",
              "    </tr>\n",
              "    <tr>\n",
              "      <th>...</th>\n",
              "      <td>...</td>\n",
              "      <td>...</td>\n",
              "      <td>...</td>\n",
              "      <td>...</td>\n",
              "      <td>...</td>\n",
              "      <td>...</td>\n",
              "      <td>...</td>\n",
              "      <td>...</td>\n",
              "      <td>...</td>\n",
              "      <td>...</td>\n",
              "    </tr>\n",
              "    <tr>\n",
              "      <th>5734</th>\n",
              "      <td>-74.001572</td>\n",
              "      <td>40.735870</td>\n",
              "      <td>-73.963860</td>\n",
              "      <td>40.770932</td>\n",
              "      <td>1.0</td>\n",
              "      <td>2013</td>\n",
              "      <td>6</td>\n",
              "      <td>8</td>\n",
              "      <td>11</td>\n",
              "      <td>5.025721</td>\n",
              "    </tr>\n",
              "    <tr>\n",
              "      <th>5191</th>\n",
              "      <td>-73.969437</td>\n",
              "      <td>40.785404</td>\n",
              "      <td>-73.991615</td>\n",
              "      <td>40.738729</td>\n",
              "      <td>1.0</td>\n",
              "      <td>2009</td>\n",
              "      <td>10</td>\n",
              "      <td>17</td>\n",
              "      <td>18</td>\n",
              "      <td>5.512261</td>\n",
              "    </tr>\n",
              "    <tr>\n",
              "      <th>5390</th>\n",
              "      <td>-73.946693</td>\n",
              "      <td>40.791672</td>\n",
              "      <td>-73.942589</td>\n",
              "      <td>40.786282</td>\n",
              "      <td>1.0</td>\n",
              "      <td>2013</td>\n",
              "      <td>2</td>\n",
              "      <td>8</td>\n",
              "      <td>8</td>\n",
              "      <td>0.691442</td>\n",
              "    </tr>\n",
              "    <tr>\n",
              "      <th>860</th>\n",
              "      <td>-73.981422</td>\n",
              "      <td>40.746609</td>\n",
              "      <td>-73.978653</td>\n",
              "      <td>40.782975</td>\n",
              "      <td>3.0</td>\n",
              "      <td>2010</td>\n",
              "      <td>9</td>\n",
              "      <td>15</td>\n",
              "      <td>9</td>\n",
              "      <td>4.048119</td>\n",
              "    </tr>\n",
              "    <tr>\n",
              "      <th>7270</th>\n",
              "      <td>-73.995499</td>\n",
              "      <td>40.759853</td>\n",
              "      <td>-73.986443</td>\n",
              "      <td>40.766941</td>\n",
              "      <td>1.0</td>\n",
              "      <td>2013</td>\n",
              "      <td>11</td>\n",
              "      <td>2</td>\n",
              "      <td>12</td>\n",
              "      <td>1.096047</td>\n",
              "    </tr>\n",
              "  </tbody>\n",
              "</table>\n",
              "<p>8909 rows × 10 columns</p>\n",
              "</div>"
            ],
            "text/plain": [
              "       pickup_longitude  pickup_latitude  ...  pickup_datetime-hour  distance\n",
              "5967         -73.968666        40.791473  ...                    13  0.866177\n",
              "10615        -73.966949        40.763966  ...                    18  0.556107\n",
              "6615         -73.970901        40.748089  ...                     9  4.126923\n",
              "8459         -73.982933        40.756550  ...                    12  1.684818\n",
              "4881         -73.998924        40.713676  ...                    14  4.132227\n",
              "...                 ...              ...  ...                   ...       ...\n",
              "5734         -74.001572        40.735870  ...                    11  5.025721\n",
              "5191         -73.969437        40.785404  ...                    18  5.512261\n",
              "5390         -73.946693        40.791672  ...                     8  0.691442\n",
              "860          -73.981422        40.746609  ...                     9  4.048119\n",
              "7270         -73.995499        40.759853  ...                    12  1.096047\n",
              "\n",
              "[8909 rows x 10 columns]"
            ]
          },
          "metadata": {},
          "execution_count": 21
        }
      ]
    },
    {
      "cell_type": "code",
      "metadata": {
        "colab": {
          "base_uri": "https://localhost:8080/"
        },
        "id": "VfHayyMDc_F3",
        "outputId": "6958ae49-d38f-45c1-fc95-1f222e468f50"
      },
      "source": [
        "train_targets\n"
      ],
      "execution_count": 22,
      "outputs": [
        {
          "output_type": "execute_result",
          "data": {
            "text/plain": [
              "5967      4.1\n",
              "10615     3.7\n",
              "6615     12.5\n",
              "8459     10.0\n",
              "4881     13.7\n",
              "         ... \n",
              "5734     16.5\n",
              "5191     14.5\n",
              "5390      4.5\n",
              "860       9.7\n",
              "7270      6.5\n",
              "Name: fare_amount, Length: 8909, dtype: float32"
            ]
          },
          "metadata": {},
          "execution_count": 22
        }
      ]
    },
    {
      "cell_type": "markdown",
      "metadata": {
        "id": "Ho4FE8l47nmU"
      },
      "source": [
        "validation data"
      ]
    },
    {
      "cell_type": "code",
      "metadata": {
        "id": "rsz9MAYB7pdY"
      },
      "source": [
        "val_inputs = val_df[input_cols]\n",
        "val_targets = val_df[target_col]\n"
      ],
      "execution_count": 27,
      "outputs": []
    },
    {
      "cell_type": "markdown",
      "metadata": {
        "id": "Ufv-Rl7gduwm"
      },
      "source": [
        "## linear regression "
      ]
    },
    {
      "cell_type": "code",
      "metadata": {
        "id": "wJqlxqA4eEsb"
      },
      "source": [
        "from sklearn.linear_model import LinearRegression\n",
        "from sklearn.metrics import mean_squared_error\n"
      ],
      "execution_count": 23,
      "outputs": []
    },
    {
      "cell_type": "code",
      "metadata": {
        "colab": {
          "base_uri": "https://localhost:8080/"
        },
        "id": "Gyacbkg5eIpI",
        "outputId": "7f94f97b-96c2-4df7-eb28-29bbc2c6751c"
      },
      "source": [
        "linreg_model = LinearRegression()\n",
        "linreg_model.fit(train_inputs, train_targets)\n"
      ],
      "execution_count": 24,
      "outputs": [
        {
          "output_type": "execute_result",
          "data": {
            "text/plain": [
              "LinearRegression(copy_X=True, fit_intercept=True, n_jobs=None, normalize=False)"
            ]
          },
          "metadata": {},
          "execution_count": 24
        }
      ]
    },
    {
      "cell_type": "code",
      "metadata": {
        "id": "A_TkT9axeaAx"
      },
      "source": [
        "train_pred = linreg_model.predict(train_inputs)"
      ],
      "execution_count": 28,
      "outputs": []
    },
    {
      "cell_type": "code",
      "metadata": {
        "colab": {
          "base_uri": "https://localhost:8080/"
        },
        "id": "O4IEaA_xeaQM",
        "outputId": "a6b6c59e-cba5-4d8f-c0db-ef0157118691"
      },
      "source": [
        "error = mean_squared_error(train_targets, train_preds, squared=False)\n",
        "print(\"mean squared error for training_inputs is\", error)"
      ],
      "execution_count": 30,
      "outputs": [
        {
          "output_type": "stream",
          "name": "stdout",
          "text": [
            "mean squared error for training_inputs is 10.154319565279675\n"
          ]
        }
      ]
    },
    {
      "cell_type": "code",
      "metadata": {
        "colab": {
          "base_uri": "https://localhost:8080/"
        },
        "id": "g1_NcBudeaTU",
        "outputId": "b2b9cfa0-ebdf-4238-e740-4eda50f5171e"
      },
      "source": [
        "val_pred= linreg_model.predict(val_inputs)\n",
        "error = mean_squared_error(val_targets, val_pred, squared=False)\n",
        "print(\"mean squared error for training_inputs is\", error)"
      ],
      "execution_count": 33,
      "outputs": [
        {
          "output_type": "stream",
          "name": "stdout",
          "text": [
            "mean squared error for training_inputs is 10.129437888541114\n"
          ]
        }
      ]
    },
    {
      "cell_type": "markdown",
      "metadata": {
        "id": "9PjRxrdTC1qk"
      },
      "source": [
        "## Lasso regression"
      ]
    },
    {
      "cell_type": "code",
      "metadata": {
        "id": "1MyAq8G8C6Ta"
      },
      "source": [
        "from sklearn import linear_model\n",
        "from sklearn.metrics import mean_squared_error"
      ],
      "execution_count": 49,
      "outputs": []
    },
    {
      "cell_type": "code",
      "metadata": {
        "colab": {
          "base_uri": "https://localhost:8080/"
        },
        "id": "OYTONjSsC_Xk",
        "outputId": "fbd3e1bf-2fff-4fb9-cd3e-a3a52ad98ea8"
      },
      "source": [
        "lasso_reg = linear_model.Lasso(alpha=0.1)\n",
        "lasso_reg .fit(train_inputs, train_targets)"
      ],
      "execution_count": 53,
      "outputs": [
        {
          "output_type": "execute_result",
          "data": {
            "text/plain": [
              "Lasso(alpha=0.1, copy_X=True, fit_intercept=True, max_iter=1000,\n",
              "      normalize=False, positive=False, precompute=False, random_state=None,\n",
              "      selection='cyclic', tol=0.0001, warm_start=False)"
            ]
          },
          "metadata": {},
          "execution_count": 53
        }
      ]
    },
    {
      "cell_type": "code",
      "metadata": {
        "colab": {
          "base_uri": "https://localhost:8080/"
        },
        "id": "vlXfkeOSDJ23",
        "outputId": "bcc1ea5b-ed20-4aa2-eb32-40f757362911"
      },
      "source": [
        "train_pred =lasso_reg.predict(train_inputs)\n",
        "error = mean_squared_error(train_targets, train_pred, squared=False)\n",
        "\n",
        "print(\"mean squared error for training_inputs is\", error)"
      ],
      "execution_count": 58,
      "outputs": [
        {
          "output_type": "stream",
          "name": "stdout",
          "text": [
            "mean squared error for training_inputs is 10.155019996069129\n"
          ]
        }
      ]
    },
    {
      "cell_type": "code",
      "metadata": {
        "colab": {
          "base_uri": "https://localhost:8080/"
        },
        "id": "GOlV-pjaDRAa",
        "outputId": "a2a71651-08be-45bd-c660-2d7eb48ac490"
      },
      "source": [
        "val_pred= lasso_reg.predict(val_inputs)\n",
        "error = mean_squared_error(val_targets, val_pred, squared=False)\n",
        "print(\"mean squared error for training_inputs is\", error)"
      ],
      "execution_count": 59,
      "outputs": [
        {
          "output_type": "stream",
          "name": "stdout",
          "text": [
            "mean squared error for training_inputs is 10.128457174371336\n"
          ]
        }
      ]
    },
    {
      "cell_type": "markdown",
      "metadata": {
        "id": "jTFhQbTB8DWp"
      },
      "source": [
        "## random forest"
      ]
    },
    {
      "cell_type": "code",
      "metadata": {
        "id": "TTC0MRpA8ZsS"
      },
      "source": [
        "from sklearn.ensemble import RandomForestRegressor"
      ],
      "execution_count": 34,
      "outputs": []
    },
    {
      "cell_type": "code",
      "metadata": {
        "colab": {
          "base_uri": "https://localhost:8080/"
        },
        "id": "odqWgMHQ8b4x",
        "outputId": "7a4c3a42-f98a-435b-935c-5573be63f8b4"
      },
      "source": [
        "%%time\n",
        "random_forest_model = RandomForestRegressor(max_depth=10, n_jobs=-1, random_state=42, n_estimators=50)\n",
        "random_forest_model.fit(train_inputs, train_targets)"
      ],
      "execution_count": 36,
      "outputs": [
        {
          "output_type": "stream",
          "name": "stdout",
          "text": [
            "CPU times: user 2.71 s, sys: 8.16 ms, total: 2.72 s\n",
            "Wall time: 1.54 s\n"
          ]
        }
      ]
    },
    {
      "cell_type": "code",
      "metadata": {
        "colab": {
          "base_uri": "https://localhost:8080/"
        },
        "id": "ULF5bh1h80Zo",
        "outputId": "cb075472-e994-4fe4-b40c-8f60440116eb"
      },
      "source": [
        "train_pred = random_forest_model.predict(train_inputs)\n",
        "error = mean_squared_error(train_targets, train_pred, squared=False)\n",
        "\n",
        "print(\"mean squared error for training_inputs is\", error)"
      ],
      "execution_count": 39,
      "outputs": [
        {
          "output_type": "stream",
          "name": "stdout",
          "text": [
            "mean squared error for training_inputs is 2.8336018131606173\n"
          ]
        }
      ]
    },
    {
      "cell_type": "code",
      "metadata": {
        "colab": {
          "base_uri": "https://localhost:8080/"
        },
        "id": "rmct-Oys9OZk",
        "outputId": "e4b1b5b5-afd2-4ee4-f55c-9e3b62079cbd"
      },
      "source": [
        "val_pred= linreg_model.predict(val_inputs)\n",
        "error = mean_squared_error(val_targets, val_pred, squared=False)\n",
        "print(\"mean squared error for training_inputs is\", error)"
      ],
      "execution_count": 40,
      "outputs": [
        {
          "output_type": "stream",
          "name": "stdout",
          "text": [
            "mean squared error for training_inputs is 10.129437888541114\n"
          ]
        }
      ]
    },
    {
      "cell_type": "markdown",
      "metadata": {
        "id": "SJFms17xJwhm"
      },
      "source": [
        "## Gradient Boosting with tuning parameter"
      ]
    },
    {
      "cell_type": "code",
      "metadata": {
        "id": "QipJOgZ1J0aX"
      },
      "source": [
        "from xgboost import XGBRegressor"
      ],
      "execution_count": 60,
      "outputs": []
    },
    {
      "cell_type": "code",
      "metadata": {
        "id": "5p-rLeB9J3MZ"
      },
      "source": [
        "reference: https://jovian.ai/aakashns\n",
        "import matplotlib.pyplot as plt\n",
        "\n",
        "def test_params(ModelClass, **params):\n",
        "    model = ModelClass(**params).fit(train_inputs, train_targets)\n",
        "    train_rmse = mean_squared_error(model.predict(train_inputs), train_targets, squared=False)\n",
        "    val_rmse = mean_squared_error(model.predict(val_inputs), val_targets, squared=False)\n",
        "    return train_rmse, val_rmse\n",
        "\n",
        "def test_param_and_plot(ModelClass, param_name, param_values, **other_params):\n",
        "    train_errors, val_errors = [], [] \n",
        "    for value in param_values:\n",
        "        params = dict(other_params)\n",
        "        params[param_name] = value\n",
        "        train_rmse, val_rmse = test_params(ModelClass, **params)\n",
        "        train_errors.append(train_rmse)\n",
        "        val_errors.append(val_rmse)\n",
        "    \n",
        "    plt.figure(figsize=(10,6))\n",
        "    plt.title('Overfitting curve: ' + param_name)\n",
        "    plt.plot(param_values, train_errors, 'b-o')\n",
        "    plt.plot(param_values, val_errors, 'r-o')\n",
        "    plt.xlabel(param_name)\n",
        "    plt.ylabel('RMSE')\n",
        "    plt.legend(['Training', 'Validation'])\n",
        "best_params = {\n",
        "    'random_state': 42,\n",
        "    'n_jobs': -1,\n",
        "    'objective': 'reg:squarederror'\n",
        "}"
      ],
      "execution_count": 61,
      "outputs": []
    },
    {
      "cell_type": "code",
      "metadata": {
        "colab": {
          "base_uri": "https://localhost:8080/",
          "height": 439
        },
        "id": "rR2QxDsqJ_tJ",
        "outputId": "31858c70-5fc9-473d-cf60-5ae868abcdf4"
      },
      "source": [
        "%%time \n",
        "test_param_and_plot(XGBRegressor, 'n_estimators', [100,200,300,400,500], **best_params)"
      ],
      "execution_count": 65,
      "outputs": [
        {
          "output_type": "stream",
          "name": "stdout",
          "text": [
            "CPU times: user 15 s, sys: 32.7 ms, total: 15 s\n",
            "Wall time: 7.73 s\n"
          ]
        },
        {
          "output_type": "display_data",
          "data": {
            "image/png": "[encoded data removed]",
            "text/plain": [
              "<Figure size 720x432 with 1 Axes>"
            ]
          },
          "metadata": {
            "needs_background": "light"
          }
        }
      ]
    },
    {
      "cell_type": "code",
      "metadata": {
        "colab": {
          "base_uri": "https://localhost:8080/",
          "height": 439
        },
        "id": "UmwELB_YKr1-",
        "outputId": "288f5534-8264-4d4f-c259-c00534c7f8d9"
      },
      "source": [
        "%%time \n",
        "test_param_and_plot(XGBRegressor, 'max_depth', [2,3, 4, 5,6,7,8], **best_params)"
      ],
      "execution_count": 71,
      "outputs": [
        {
          "output_type": "stream",
          "name": "stdout",
          "text": [
            "CPU times: user 12 s, sys: 28.9 ms, total: 12 s\n",
            "Wall time: 6.21 s\n"
          ]
        },
        {
          "output_type": "display_data",
          "data": {
            "image/png": "[encoded data removed]",
            "text/plain": [
              "<Figure size 720x432 with 1 Axes>"
            ]
          },
          "metadata": {
            "needs_background": "light"
          }
        }
      ]
    },
    {
      "cell_type": "code",
      "metadata": {
        "colab": {
          "base_uri": "https://localhost:8080/",
          "height": 439
        },
        "id": "L0nilSfgK6A3",
        "outputId": "0ca784d4-8424-4f5d-ef85-ee0758de4200"
      },
      "source": [
        "%%time\n",
        "test_param_and_plot(XGBRegressor, 'learning_rate', [0.05, 0.1,0.15,0.2, 0.25,0.3,0.35,0.4], **best_params)"
      ],
      "execution_count": 70,
      "outputs": [
        {
          "output_type": "stream",
          "name": "stdout",
          "text": [
            "CPU times: user 8 s, sys: 25.1 ms, total: 8.03 s\n",
            "Wall time: 4.17 s\n"
          ]
        },
        {
          "output_type": "display_data",
          "data": {
            "image/png": "[encoded data removed]",
            "text/plain": [
              "<Figure size 720x432 with 1 Axes>"
            ]
          },
          "metadata": {
            "needs_background": "light"
          }
        }
      ]
    },
    {
      "cell_type": "code",
      "metadata": {
        "id": "S3u9_nVgLE1T"
      },
      "source": [
        "xgb_model = XGBRegressor(objective='reg:squarederror', n_jobs=-1, random_state=42,\n",
        "                               n_estimators=500, max_depth=8, learning_rate=0.35)"
      ],
      "execution_count": 74,
      "outputs": []
    },
    {
      "cell_type": "code",
      "metadata": {
        "colab": {
          "base_uri": "https://localhost:8080/"
        },
        "id": "blv69HpnLRbO",
        "outputId": "f28bd8fe-a4bb-4529-b3fd-1d4d0fdf3a9c"
      },
      "source": [
        "%%time\n",
        "xgb_model.fit(train_inputs, train_targets)"
      ],
      "execution_count": 76,
      "outputs": [
        {
          "output_type": "stream",
          "name": "stdout",
          "text": [
            "CPU times: user 13.1 s, sys: 40.6 ms, total: 13.2 s\n",
            "Wall time: 6.75 s\n"
          ]
        },
        {
          "output_type": "execute_result",
          "data": {
            "text/plain": [
              "XGBRegressor(base_score=0.5, booster='gbtree', colsample_bylevel=1,\n",
              "             colsample_bynode=1, colsample_bytree=1, gamma=0,\n",
              "             importance_type='gain', learning_rate=0.35, max_delta_step=0,\n",
              "             max_depth=8, min_child_weight=1, missing=None, n_estimators=500,\n",
              "             n_jobs=-1, nthread=None, objective='reg:squarederror',\n",
              "             random_state=42, reg_alpha=0, reg_lambda=1, scale_pos_weight=1,\n",
              "             seed=None, silent=None, subsample=1, verbosity=1)"
            ]
          },
          "metadata": {},
          "execution_count": 76
        }
      ]
    },
    {
      "cell_type": "code",
      "metadata": {
        "colab": {
          "base_uri": "https://localhost:8080/"
        },
        "id": "8XA17PRjLbl_",
        "outputId": "076cabe3-ca2f-4965-f28c-6adb6521f263"
      },
      "source": [
        "train_pred =xgb_model.predict(train_inputs)\n",
        "error = mean_squared_error(train_targets, train_pred, squared=False)\n",
        "\n",
        "print(\"mean squared error for training_inputs is\", error)"
      ],
      "execution_count": 77,
      "outputs": [
        {
          "output_type": "stream",
          "name": "stdout",
          "text": [
            "mean squared error for training_inputs is 0.02383352\n"
          ]
        }
      ]
    },
    {
      "cell_type": "code",
      "metadata": {
        "colab": {
          "base_uri": "https://localhost:8080/"
        },
        "id": "eC1b96R3Lj5n",
        "outputId": "d26aa617-9439-4409-b543-bf30dc0d4962"
      },
      "source": [
        "val_pred= xgb_model.predict(val_inputs)\n",
        "error = mean_squared_error(val_targets, val_pred, squared=False)\n",
        "print(\"mean squared error for training_inputs is\", error)"
      ],
      "execution_count": 78,
      "outputs": [
        {
          "output_type": "stream",
          "name": "stdout",
          "text": [
            "mean squared error for training_inputs is 5.0063887\n"
          ]
        }
      ]
    }
  ]
}